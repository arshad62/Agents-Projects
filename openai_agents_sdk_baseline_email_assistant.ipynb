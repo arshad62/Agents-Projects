{
  "nbformat": 4,
  "nbformat_minor": 0,
  "metadata": {
    "colab": {
      "provenance": [],
      "include_colab_link": true
    },
    "kernelspec": {
      "name": "python3",
      "display_name": "Python 3"
    },
    "language_info": {
      "name": "python"
    }
  },
  "cells": [
    {
      "cell_type": "markdown",
      "metadata": {
        "id": "view-in-github",
        "colab_type": "text"
      },
      "source": [
        "<a href=\"https://colab.research.google.com/github/arshad62/Agents-Projects/blob/main/openai_agents_sdk_baseline_email_assistant.ipynb\" target=\"_parent\"><img src=\"https://colab.research.google.com/assets/colab-badge.svg\" alt=\"Open In Colab\"/></a>"
      ]
    },
    {
      "cell_type": "markdown",
      "source": [
        "# **OpenAI Agents SDK Baseline Email Assistant**"
      ],
      "metadata": {
        "id": "JtKpusSwWIZY"
      }
    },
    {
      "cell_type": "markdown",
      "source": [
        "# Baseline Email Assistant\n",
        "\n",
        "![architecture_pic](https://github.com/panaversity/learn-agentic-ai/blob/main/01_openai_agents/16_memory/01_langmem/00_baseline_email_assistant/img/memory_course_email.png?raw=true)\n",
        "\n",
        "This lesson builds an email assistant that:\n",
        "- Uses OpenAI Agents SDK\n",
        "- Classifies incoming messages (respond, ignore, notify)\n",
        "- Drafts responses\n",
        "- Schedules meetings\n",
        "\n",
        "We'll start with a simple implementation - one that uses hard-coded rules to handle emails."
      ],
      "metadata": {
        "id": "MagfdaZ7WpAq"
      }
    },
    {
      "cell_type": "markdown",
      "metadata": {
        "id": "PdKwzEluDBN7"
      },
      "source": [
        "# Install openai-agents SDK"
      ]
    },
    {
      "cell_type": "code",
      "execution_count": 1,
      "metadata": {
        "id": "3QdkOviEB2ay",
        "colab": {
          "base_uri": "https://localhost:8080/"
        },
        "outputId": "5b293fc3-71eb-4c71-bd83-fb0ea2b82c37"
      },
      "outputs": [
        {
          "output_type": "stream",
          "name": "stdout",
          "text": [
            "\u001b[2K     \u001b[90m━━━━━━━━━━━━━━━━━━━━━━━━━━━━━━━━━━━━━━━━\u001b[0m \u001b[32m43.5/43.5 kB\u001b[0m \u001b[31m2.1 MB/s\u001b[0m eta \u001b[36m0:00:00\u001b[0m\n",
            "\u001b[2K   \u001b[90m━━━━━━━━━━━━━━━━━━━━━━━━━━━━━━━━━━━━━━━━\u001b[0m \u001b[32m98.9/98.9 kB\u001b[0m \u001b[31m2.4 MB/s\u001b[0m eta \u001b[36m0:00:00\u001b[0m\n",
            "\u001b[2K   \u001b[90m━━━━━━━━━━━━━━━━━━━━━━━━━━━━━━━━━━━━━━━━\u001b[0m \u001b[32m61.0/61.0 kB\u001b[0m \u001b[31m2.7 MB/s\u001b[0m eta \u001b[36m0:00:00\u001b[0m\n",
            "\u001b[2K   \u001b[90m━━━━━━━━━━━━━━━━━━━━━━━━━━━━━━━━━━━━━━━━\u001b[0m \u001b[32m128.6/128.6 kB\u001b[0m \u001b[31m2.7 MB/s\u001b[0m eta \u001b[36m0:00:00\u001b[0m\n",
            "\u001b[2K   \u001b[90m━━━━━━━━━━━━━━━━━━━━━━━━━━━━━━━━━━━━━━━━\u001b[0m \u001b[32m61.2/61.2 kB\u001b[0m \u001b[31m3.0 MB/s\u001b[0m eta \u001b[36m0:00:00\u001b[0m\n",
            "\u001b[2K   \u001b[90m━━━━━━━━━━━━━━━━━━━━━━━━━━━━━━━━━━━━━━━━\u001b[0m \u001b[32m418.7/418.7 kB\u001b[0m \u001b[31m8.0 MB/s\u001b[0m eta \u001b[36m0:00:00\u001b[0m\n",
            "\u001b[2K   \u001b[90m━━━━━━━━━━━━━━━━━━━━━━━━━━━━━━━━━━━━━━━━\u001b[0m \u001b[32m137.9/137.9 kB\u001b[0m \u001b[31m4.7 MB/s\u001b[0m eta \u001b[36m0:00:00\u001b[0m\n",
            "\u001b[2K   \u001b[90m━━━━━━━━━━━━━━━━━━━━━━━━━━━━━━━━━━━━━━━━\u001b[0m \u001b[32m41.9/41.9 kB\u001b[0m \u001b[31m2.0 MB/s\u001b[0m eta \u001b[36m0:00:00\u001b[0m\n",
            "\u001b[2K   \u001b[90m━━━━━━━━━━━━━━━━━━━━━━━━━━━━━━━━━━━━━━━━\u001b[0m \u001b[32m243.4/243.4 kB\u001b[0m \u001b[31m3.1 MB/s\u001b[0m eta \u001b[36m0:00:00\u001b[0m\n",
            "\u001b[2K   \u001b[90m━━━━━━━━━━━━━━━━━━━━━━━━━━━━━━━━━━━━━━━━\u001b[0m \u001b[32m47.0/47.0 kB\u001b[0m \u001b[31m3.2 MB/s\u001b[0m eta \u001b[36m0:00:00\u001b[0m\n",
            "\u001b[2K   \u001b[90m━━━━━━━━━━━━━━━━━━━━━━━━━━━━━━━━━━━━━━━━\u001b[0m \u001b[32m223.7/223.7 kB\u001b[0m \u001b[31m15.0 MB/s\u001b[0m eta \u001b[36m0:00:00\u001b[0m\n",
            "\u001b[2K   \u001b[90m━━━━━━━━━━━━━━━━━━━━━━━━━━━━━━━━━━━━━━━━\u001b[0m \u001b[32m1.2/1.2 MB\u001b[0m \u001b[31m38.7 MB/s\u001b[0m eta \u001b[36m0:00:00\u001b[0m\n",
            "\u001b[2K   \u001b[90m━━━━━━━━━━━━━━━━━━━━━━━━━━━━━━━━━━━━━━━━\u001b[0m \u001b[32m194.8/194.8 kB\u001b[0m \u001b[31m10.7 MB/s\u001b[0m eta \u001b[36m0:00:00\u001b[0m\n",
            "\u001b[?25h"
          ]
        }
      ],
      "source": [
        "!pip install -Uq openai-agents pydantic langmem"
      ]
    },
    {
      "cell_type": "markdown",
      "metadata": {
        "id": "7yD91lz4DIAx"
      },
      "source": [
        "# Make your Notebook capable of running asynchronous functions.\n",
        "Both Jupyter notebooks and Python’s asyncio library utilize event loops, but they serve different purposes and can sometimes interfere with each other.\n",
        "\n",
        "The nest_asyncio library allows the existing event loop to accept nested event loops, enabling asyncio code to run within environments that already have an event loop, such as Jupyter notebooks.\n",
        "\n",
        "In summary, both Jupyter notebooks and Python’s asyncio library utilize event loops to manage asynchronous operations. When working within Jupyter notebooks, it’s essential to be aware of the existing event loop to effectively run asyncio code without conflicts."
      ]
    },
    {
      "cell_type": "code",
      "source": [
        "import nest_asyncio\n",
        "nest_asyncio.apply()"
      ],
      "metadata": {
        "id": "C8YXyIpiZ9v4"
      },
      "execution_count": 2,
      "outputs": []
    },
    {
      "cell_type": "code",
      "execution_count": 3,
      "metadata": {
        "id": "XnusaX_RWF22"
      },
      "outputs": [],
      "source": [
        "from pydantic import BaseModel, Field\n",
        "from agents import (\n",
        "    Agent,\n",
        "    GuardrailFunctionOutput,\n",
        "    InputGuardrailTripwireTriggered,\n",
        "    OutputGuardrailTripwireTriggered,\n",
        "    RunContextWrapper,\n",
        "    Runner,\n",
        "    TResponseInputItem,\n",
        "    input_guardrail,\n",
        "    output_guardrail,\n",
        "    AsyncOpenAI,\n",
        "    OpenAIChatCompletionsModel,\n",
        "    RunConfig\n",
        ")\n",
        "from google.colab import userdata\n",
        "from typing import Dict, Any\n",
        "from typing_extensions import TypedDict, Literal, Annotated\n"
      ]
    },
    {
      "cell_type": "code",
      "source": [
        "gemini_api_key = userdata.get(\"GEMINI_API_KEY\")\n",
        "\n",
        "\n",
        "# Check if the API key is present; if not, raise an error\n",
        "if not gemini_api_key:\n",
        "    raise ValueError(\"GEMINI_API_KEY is not set. Please ensure it is defined in your .env file.\")"
      ],
      "metadata": {
        "id": "oPvcFwItoKqw"
      },
      "execution_count": 4,
      "outputs": []
    },
    {
      "cell_type": "code",
      "source": [
        "#Reference: https://ai.google.dev/gemini-api/docs/openai\n",
        "external_client = AsyncOpenAI(\n",
        "    api_key=gemini_api_key,\n",
        "    base_url=\"https://generativelanguage.googleapis.com/v1beta/openai/\",\n",
        ")\n",
        "\n",
        "model = OpenAIChatCompletionsModel(\n",
        "    model=\"gemini-2.0-flash\",\n",
        "    openai_client=external_client\n",
        ")\n",
        "\n",
        "config = RunConfig(\n",
        "    model=model,\n",
        "    model_provider=external_client,\n",
        "    tracing_disabled=True\n",
        ")\n"
      ],
      "metadata": {
        "id": "ci9rBxqfnyNm"
      },
      "execution_count": 5,
      "outputs": []
    },
    {
      "cell_type": "markdown",
      "source": [
        "## **Setup a Profile, Prompt Instructions and Example Email**"
      ],
      "metadata": {
        "id": "QhIqMcxWa6GD"
      }
    },
    {
      "cell_type": "code",
      "source": [
        "profile = {\n",
        "    \"name\": \"Arshad\",\n",
        "    \"full_name\": \"Arshad Siddiqui\",\n",
        "    \"user_profile_background\": \"Senior software engineer leading a team of 5 developers\",\n",
        "}"
      ],
      "metadata": {
        "id": "bNf0OmfHSwkp"
      },
      "execution_count": 6,
      "outputs": []
    },
    {
      "cell_type": "code",
      "source": [
        "prompt_instructions = {\n",
        "    \"triage_rules\": {\n",
        "        \"ignore\": \"Marketing newsletters, spam emails, mass company announcements\",\n",
        "        \"notify\": \"Team member out sick, build system notifications, project status updates\",\n",
        "        \"respond\": \"Direct questions from team members, meeting requests, critical bug reports\",\n",
        "    },\n",
        "    \"agent_instructions\": \"Use these tools when appropriate to help manage Arshad's tasks efficiently.\"\n",
        "}"
      ],
      "metadata": {
        "id": "Z385ETRSTt4P"
      },
      "execution_count": 7,
      "outputs": []
    },
    {
      "cell_type": "code",
      "source": [
        "# Example incoming email\n",
        "email = {\n",
        "    \"from\": \"Alice Smith <alice.smith@company.com>\",\n",
        "    \"to\": \"Arshad Siddiqui <arshad.siddiqui@company.com>\",\n",
        "    \"subject\": \"Quick question about API documentation\",\n",
        "    \"body\": \"\"\"\n",
        "Hi Arshad,\n",
        "\n",
        "I was reviewing the API documentation for the new authentication service and noticed a few endpoints seem to be missing from the specs. Could you help clarify if this was intentional or if we should update the docs?\n",
        "\n",
        "Specifically, I'm looking at:\n",
        "- /auth/refresh\n",
        "- /auth/validate\n",
        "\n",
        "Thanks!\n",
        "Alice\"\"\",\n",
        "}\n",
        "\n",
        "class Email(BaseModel):\n",
        "    from_: str = Field(alias=\"from\")\n",
        "    to: str\n",
        "    subject: str\n",
        "    body: str\n",
        "\n",
        "email_model = Email(**email)\n",
        "print(email_model.model_dump_json(by_alias=True))"
      ],
      "metadata": {
        "colab": {
          "base_uri": "https://localhost:8080/"
        },
        "id": "_3s1leDMa1-M",
        "outputId": "201a3412-0caa-402e-d751-4d763ffbd21a"
      },
      "execution_count": 8,
      "outputs": [
        {
          "output_type": "stream",
          "name": "stdout",
          "text": [
            "{\"from\":\"Alice Smith <alice.smith@company.com>\",\"to\":\"Arshad Siddiqui <arshad.siddiqui@company.com>\",\"subject\":\"Quick question about API documentation\",\"body\":\"\\nHi Arshad,\\n\\nI was reviewing the API documentation for the new authentication service and noticed a few endpoints seem to be missing from the specs. Could you help clarify if this was intentional or if we should update the docs?\\n\\nSpecifically, I'm looking at:\\n- /auth/refresh\\n- /auth/validate\\n\\nThanks!\\nAlice\"}\n"
          ]
        }
      ]
    },
    {
      "cell_type": "code",
      "source": [
        "class Router(BaseModel):\n",
        "    \"\"\"Analyze the unread email and route it according to its content.\"\"\"\n",
        "\n",
        "    reasoning: str = Field(\n",
        "        description=\"Step-by-step reasoning behind the classification.\"\n",
        "    )\n",
        "    classification: Literal[\"ignore\", \"respond\", \"notify\"] = Field(\n",
        "        description=\"The classification of an email: 'ignore' for irrelevant emails, \"\n",
        "        \"'notify' for important information that doesn't need a response, \"\n",
        "        \"'respond' for emails that need a reply\",\n",
        "    )"
      ],
      "metadata": {
        "id": "ZCmLINFscUji"
      },
      "execution_count": 9,
      "outputs": []
    },
    {
      "cell_type": "markdown",
      "source": [
        "## **Prompt Templates**"
      ],
      "metadata": {
        "id": "cJxC0wFqdCD1"
      }
    },
    {
      "cell_type": "code",
      "source": [
        "# Triage system prompt template\n",
        "triage_system_prompt_template = \"\"\"\n",
        "< Role >\n",
        "You are {full_name}'s executive assistant. You are a top-notch executive assistant who cares about {name} performing as well as possible.\n",
        "</ Role >\n",
        "\n",
        "< Background >\n",
        "{user_profile_background}.\n",
        "</ Background >\n",
        "\n",
        "< Instructions >\n",
        "\n",
        "{name} gets lots of emails. Your job is to categorize each email into one of three categories:\n",
        "\n",
        "1. IGNORE - Emails that are not worth responding to or tracking\n",
        "2. NOTIFY - Important information that {name} should know about but doesn't require a response\n",
        "3. RESPOND - Emails that need a direct response from {name}\n",
        "\n",
        "Classify the below email into one of these categories.\n",
        "\n",
        "</ Instructions >\n",
        "\n",
        "< Rules >\n",
        "Emails that are not worth responding to:\n",
        "{triage_no}\n",
        "\n",
        "There are also other things that {name} should know about, but don't require an email response. For these, you should notify {name} (using the `notify` response). Examples of this include:\n",
        "{triage_notify}\n",
        "\n",
        "Emails that are worth responding to:\n",
        "{triage_email}\n",
        "</ Rules >\n",
        "\n",
        "< Few shot examples >\n",
        "{examples}\n",
        "</ Few shot examples >\n",
        "\"\"\"\n",
        "\n",
        "\n",
        "\n",
        "\n",
        "\n",
        "# Triage User Prompt Template\n",
        "triage_user_prompt_template = \"\"\"\n",
        "Please determine how to handle the below email thread:\n",
        "\n",
        "From: {author}\n",
        "To: {to}\n",
        "Subject: {subject}\n",
        "{email_thread}\"\"\"\n",
        "\n",
        "\n",
        "\n"
      ],
      "metadata": {
        "id": "3l4qiC5xdA4C"
      },
      "execution_count": 10,
      "outputs": []
    },
    {
      "cell_type": "markdown",
      "source": [
        "## **A function to create a prompt using f-string**"
      ],
      "metadata": {
        "id": "bKvnDeJmgdIh"
      }
    },
    {
      "cell_type": "code",
      "source": [
        "def create_prompt(template: str, variables: Dict[str, any]) -> str:\n",
        "    \"\"\"Creates a prompt using an f-string and a dictionary of variables.\"\"\"\n",
        "    try:\n",
        "        return template.format(**variables)\n",
        "    except KeyError as e:\n",
        "        return f\"Error: Missing variable '{e.args[0]}' in the provided dictionary.\""
      ],
      "metadata": {
        "id": "_FzwooWFgeAc"
      },
      "execution_count": 11,
      "outputs": []
    },
    {
      "cell_type": "code",
      "source": [
        "system_prompt = create_prompt(triage_system_prompt_template, {\n",
        "    \"full_name\": profile[\"full_name\"],\n",
        "    \"name\":profile[\"name\"],\n",
        "    \"examples\": None,\n",
        "    \"user_profile_background\": profile[\"user_profile_background\"],\n",
        "    \"triage_no\" : prompt_instructions[\"triage_rules\"][\"ignore\"],\n",
        "    \"triage_notify\": prompt_instructions[\"triage_rules\"][\"notify\"],\n",
        "    \"triage_email\" : prompt_instructions[\"triage_rules\"][\"respond\"],\n",
        "  }\n",
        ")"
      ],
      "metadata": {
        "id": "3zVxNw8ud9ET"
      },
      "execution_count": 12,
      "outputs": []
    },
    {
      "cell_type": "code",
      "source": [
        "user_prompt = create_prompt(triage_user_prompt_template, {\n",
        "    \"author\": email[\"from\"],\n",
        "    \"to\": email[\"to\"],\n",
        "    \"subject\": email[\"subject\"],\n",
        "    \"email_thread\" : email[\"body\"],\n",
        "  }\n",
        ")"
      ],
      "metadata": {
        "id": "8hsbNDWCs77g"
      },
      "execution_count": 13,
      "outputs": []
    },
    {
      "cell_type": "markdown",
      "source": [
        "## **Triage Agent**"
      ],
      "metadata": {
        "id": "Rcwy4qC13QXQ"
      }
    },
    {
      "cell_type": "code",
      "source": [
        "triage_agent = Agent(\n",
        "    name=\"Triage Agent\",\n",
        "    instructions=system_prompt,\n",
        "    output_type=Router\n",
        ")"
      ],
      "metadata": {
        "id": "TE2j1WJ-YjNK"
      },
      "execution_count": 14,
      "outputs": []
    },
    {
      "cell_type": "code",
      "source": [
        "triage_result = await Runner.run(triage_agent, user_prompt, run_config = config)\n",
        "print(triage_result.final_output.classification)\n",
        "print(triage_result.final_output.reasoning)\n"
      ],
      "metadata": {
        "colab": {
          "base_uri": "https://localhost:8080/"
        },
        "id": "xg5g0KaBYuVl",
        "outputId": "637857b5-a012-4265-9898-d2ef8284d634"
      },
      "execution_count": 15,
      "outputs": [
        {
          "output_type": "stream",
          "name": "stdout",
          "text": [
            "respond\n",
            "Alice is asking a direct question about API documentation, which requires a response from Arshad.\n"
          ]
        }
      ]
    },
    {
      "cell_type": "markdown",
      "source": [
        "## **Response Agent, Define Tools**"
      ],
      "metadata": {
        "id": "lbw8_HSN3Wif"
      }
    },
    {
      "cell_type": "code",
      "source": [
        "from agents import function_tool"
      ],
      "metadata": {
        "id": "Ff3qUo8R4fQY"
      },
      "execution_count": 16,
      "outputs": []
    },
    {
      "cell_type": "code",
      "source": [
        "@function_tool\n",
        "def write_email(to: str, subject: str, content: str) -> str:\n",
        "    \"\"\"Write and send an email.\"\"\"\n",
        "    # Placeholder response - in real app would send email\n",
        "    return f\"Email sent to {to} with subject '{subject}'\""
      ],
      "metadata": {
        "id": "m1-MmkQq3aCE"
      },
      "execution_count": 17,
      "outputs": []
    },
    {
      "cell_type": "code",
      "source": [
        "@function_tool\n",
        "def schedule_meeting(\n",
        "    attendees: list[str],\n",
        "    subject: str,\n",
        "    duration_minutes: int,\n",
        "    preferred_day: str\n",
        ") -> str:\n",
        "    \"\"\"Schedule a calendar meeting.\"\"\"\n",
        "    # Placeholder response - in real app would check calendar and schedule\n",
        "    return f\"Meeting '{subject}' scheduled for {preferred_day} with {len(attendees)} attendees\"\n",
        "\n"
      ],
      "metadata": {
        "id": "l7DIOHhj4wqE"
      },
      "execution_count": 18,
      "outputs": []
    },
    {
      "cell_type": "code",
      "source": [
        "@function_tool\n",
        "def check_calendar_availability(day: str) -> str:\n",
        "    \"\"\"Check calendar availability for a given day.\"\"\"\n",
        "    # Placeholder response - in real app would check actual calendar\n",
        "    return f\"Available times on {day}: 9:00 AM, 2:00 PM, 4:00 PM\""
      ],
      "metadata": {
        "id": "FYY2YRm341Dh"
      },
      "execution_count": 19,
      "outputs": []
    },
    {
      "cell_type": "markdown",
      "source": [
        "## **Response Agent, Define Prompt**"
      ],
      "metadata": {
        "id": "UXrrpjMD52VW"
      }
    },
    {
      "cell_type": "code",
      "source": [
        "response_prompt_template = \"\"\"\n",
        "< Role >\n",
        "You are {full_name}'s executive assistant. You are a top-notch executive assistant who cares about {name} performing as well as possible.\n",
        "</ Role >\n",
        "\n",
        "< Tools >\n",
        "You have access to the following tools to help manage {name}'s communications and schedule:\n",
        "\n",
        "1. write_email(to, subject, content) - Send emails to specified recipients\n",
        "2. schedule_meeting(attendees, subject, duration_minutes, preferred_day) - Schedule calendar meetings\n",
        "3. check_calendar_availability(day) - Check available time slots for a given day\n",
        "</ Tools >\n",
        "\n",
        "< Instructions >\n",
        "{instructions}\n",
        "</ Instructions >\n",
        "\"\"\""
      ],
      "metadata": {
        "id": "HRtFZ0-O5_au"
      },
      "execution_count": 20,
      "outputs": []
    },
    {
      "cell_type": "code",
      "source": [
        "response_system_prompt = create_prompt(response_prompt_template, {\n",
        "    \"full_name\": profile[\"full_name\"],\n",
        "    \"name\":profile[\"name\"],\n",
        "    \"instructions\": prompt_instructions[\"agent_instructions\"],\n",
        "  }\n",
        ")\n",
        "print(response_system_prompt)"
      ],
      "metadata": {
        "colab": {
          "base_uri": "https://localhost:8080/"
        },
        "id": "bLDpM1ocffIW",
        "outputId": "c086b737-258d-4a3d-f892-3c6490f55779"
      },
      "execution_count": 21,
      "outputs": [
        {
          "output_type": "stream",
          "name": "stdout",
          "text": [
            "\n",
            "< Role >\n",
            "You are Arshad Siddiqui's executive assistant. You are a top-notch executive assistant who cares about Arshad performing as well as possible.\n",
            "</ Role >\n",
            "\n",
            "< Tools >\n",
            "You have access to the following tools to help manage Arshad's communications and schedule:\n",
            "\n",
            "1. write_email(to, subject, content) - Send emails to specified recipients\n",
            "2. schedule_meeting(attendees, subject, duration_minutes, preferred_day) - Schedule calendar meetings\n",
            "3. check_calendar_availability(day) - Check available time slots for a given day\n",
            "</ Tools >\n",
            "\n",
            "< Instructions >\n",
            "Use these tools when appropriate to help manage Arshad's tasks efficiently.\n",
            "</ Instructions >\n",
            "\n"
          ]
        }
      ]
    },
    {
      "cell_type": "code",
      "source": [
        "response_agent = Agent(\n",
        "    name=\"Response agent\",\n",
        "    instructions=response_system_prompt,\n",
        "    tools=[write_email, schedule_meeting, check_calendar_availability]\n",
        ")\n"
      ],
      "metadata": {
        "id": "k3x5ewYmwjuJ"
      },
      "execution_count": 22,
      "outputs": []
    },
    {
      "cell_type": "code",
      "source": [
        "response_result = await Runner.run(response_agent, \"what is my availability for tuesday?\", run_config = config)\n",
        "print(response_result.final_output)\n"
      ],
      "metadata": {
        "colab": {
          "base_uri": "https://localhost:8080/"
        },
        "id": "Q1AdqDdQyIsY",
        "outputId": "af61d603-a435-422b-fff7-e23c10db5763"
      },
      "execution_count": 23,
      "outputs": [
        {
          "output_type": "stream",
          "name": "stdout",
          "text": [
            "OK. Available times on Tuesday are 9:00 AM, 2:00 PM, and 4:00 PM.\n",
            "\n"
          ]
        }
      ]
    },
    {
      "cell_type": "markdown",
      "source": [
        "## **Create the Overall Flow in Python**"
      ],
      "metadata": {
        "id": "vseM3JXy2AI0"
      }
    },
    {
      "cell_type": "code",
      "source": [
        "async def triage_router(email: Email):\n",
        "\n",
        "  user_prompt = create_prompt(triage_user_prompt_template, {\n",
        "    \"author\": email.from_,\n",
        "    \"to\": email.to,\n",
        "    \"subject\": email.subject,\n",
        "    \"email_thread\" : email.body,\n",
        "  })\n",
        "\n",
        "  # print(user_prompt)\n",
        "\n",
        "  triage_result = await Runner.run(triage_agent, user_prompt, run_config = config)\n",
        "  print(triage_result.final_output)\n",
        "  print(\"Triage History: \", triage_result.to_input_list())\n",
        "\n",
        "  if triage_result.final_output.classification == \"respond\":\n",
        "        print(\"📧 Classification: RESPOND - This email requires a response\")\n",
        "        response_result = await Runner.run(response_agent, f\"Respond to the email {email.model_dump_json(by_alias=True)}\", run_config = config)\n",
        "        print(response_result.final_output)\n",
        "        print(\"Response History\", response_result.to_input_list())\n",
        "  elif triage_result.final_output.classification == \"ignore\":\n",
        "      print(\"🚫 Classification: IGNORE - This email can be safely ignored\")\n",
        "  elif triage_result.final_output.classification == \"notify\":\n",
        "      # If real life, this would do something else\n",
        "      print(\"🔔 Classification: NOTIFY - This email contains important information\")\n",
        "  else:\n",
        "      raise ValueError(f\"Invalid classification: {triage_result.final_output.classification}\")\n"
      ],
      "metadata": {
        "id": "BraP4MP42fRN"
      },
      "execution_count": 24,
      "outputs": []
    },
    {
      "cell_type": "markdown",
      "source": [
        "## **Now Test the Triage and Response Agents Working Together**"
      ],
      "metadata": {
        "id": "JL3oo4CramJl"
      }
    },
    {
      "cell_type": "code",
      "source": [
        "email_input = {\n",
        "    \"from\": \"Marketing Team <marketing@amazingdeals.com>\",\n",
        "    \"to\": \"Arshad Siddiqui <arshad.siddiqui@company.com>\",\n",
        "    \"subject\": \"🔥 EXCLUSIVE OFFER: Limited Time Discount on Developer Tools! 🔥\",\n",
        "    \"body\": \"\"\"Dear Valued Developer,\n",
        "\n",
        "Don't miss out on this INCREDIBLE opportunity!\n",
        "\n",
        "🚀 For a LIMITED TIME ONLY, get 80% OFF on our Premium Developer Suite!\n",
        "\n",
        "✨ FEATURES:\n",
        "- Revolutionary AI-powered code completion\n",
        "- Cloud-based development environment\n",
        "- 24/7 customer support\n",
        "- And much more!\n",
        "\n",
        "💰 Regular Price: $999/month\n",
        "🎉 YOUR SPECIAL PRICE: Just $199/month!\n",
        "\n",
        "🕒 Hurry! This offer expires in:\n",
        "24 HOURS ONLY!\n",
        "\n",
        "Click here to claim your discount: https://amazingdeals.com/special-offer\n",
        "\n",
        "Best regards,\n",
        "Marketing Team\n",
        "---\n",
        "To unsubscribe, click here\n",
        "\"\"\",\n",
        "}\n",
        "\n",
        "typed_email = Email(**email_input)\n",
        "print(typed_email.model_dump_json(by_alias=True))"
      ],
      "metadata": {
        "colab": {
          "base_uri": "https://localhost:8080/"
        },
        "id": "8tEo7AZObI-f",
        "outputId": "1542c2ce-1210-4a5f-876b-0913301dc4cc"
      },
      "execution_count": 25,
      "outputs": [
        {
          "output_type": "stream",
          "name": "stdout",
          "text": [
            "{\"from\":\"Marketing Team <marketing@amazingdeals.com>\",\"to\":\"Arshad Siddiqui <arshad.siddiqui@company.com>\",\"subject\":\"🔥 EXCLUSIVE OFFER: Limited Time Discount on Developer Tools! 🔥\",\"body\":\"Dear Valued Developer,\\n\\nDon't miss out on this INCREDIBLE opportunity!\\n\\n🚀 For a LIMITED TIME ONLY, get 80% OFF on our Premium Developer Suite!\\n\\n✨ FEATURES:\\n- Revolutionary AI-powered code completion\\n- Cloud-based development environment\\n- 24/7 customer support\\n- And much more!\\n\\n💰 Regular Price: $999/month\\n🎉 YOUR SPECIAL PRICE: Just $199/month!\\n\\n🕒 Hurry! This offer expires in:\\n24 HOURS ONLY!\\n\\nClick here to claim your discount: https://amazingdeals.com/special-offer\\n\\nBest regards,\\nMarketing Team\\n---\\nTo unsubscribe, click here\\n\"}\n"
          ]
        }
      ]
    },
    {
      "cell_type": "code",
      "source": [
        "await triage_router(typed_email)"
      ],
      "metadata": {
        "colab": {
          "base_uri": "https://localhost:8080/"
        },
        "id": "bXGGBhuObZoa",
        "outputId": "8e4cc739-8b4c-409f-81b1-5f807f228172"
      },
      "execution_count": 26,
      "outputs": [
        {
          "output_type": "stream",
          "name": "stdout",
          "text": [
            "reasoning='This is a marketing email that does not require a response.' classification='ignore'\n",
            "Triage History:  [{'content': \"\\nPlease determine how to handle the below email thread:\\n\\nFrom: Marketing Team <marketing@amazingdeals.com>\\nTo: Arshad Siddiqui <arshad.siddiqui@company.com>\\nSubject: 🔥 EXCLUSIVE OFFER: Limited Time Discount on Developer Tools! 🔥\\nDear Valued Developer,\\n\\nDon't miss out on this INCREDIBLE opportunity!\\n\\n🚀 For a LIMITED TIME ONLY, get 80% OFF on our Premium Developer Suite!\\n\\n✨ FEATURES:\\n- Revolutionary AI-powered code completion\\n- Cloud-based development environment\\n- 24/7 customer support\\n- And much more!\\n\\n💰 Regular Price: $999/month\\n🎉 YOUR SPECIAL PRICE: Just $199/month!\\n\\n🕒 Hurry! This offer expires in:\\n24 HOURS ONLY!\\n\\nClick here to claim your discount: https://amazingdeals.com/special-offer\\n\\nBest regards,\\nMarketing Team\\n---\\nTo unsubscribe, click here\\n\", 'role': 'user'}, {'id': '__fake_id__', 'content': [{'annotations': [], 'text': '{\\n  \"classification\": \"ignore\",\\n  \"reasoning\": \"This is a marketing email that does not require a response.\"\\n}', 'type': 'output_text'}], 'role': 'assistant', 'status': 'completed', 'type': 'message'}]\n",
            "🚫 Classification: IGNORE - This email can be safely ignored\n"
          ]
        }
      ]
    },
    {
      "cell_type": "code",
      "source": [
        "email_input2 = {\n",
        "    \"from\": \"Alice Smith <alice.smith@company.com>\",\n",
        "    \"to\": \"Arshad Siddiqui <arshad.siddiqui@company.com>\",\n",
        "    \"subject\": \"Quick question about API documentation\",\n",
        "    \"body\": \"\"\"Hi Arshad,\n",
        "\n",
        "I was reviewing the API documentation for the new authentication service and noticed a few endpoints seem to be missing from the specs. Could you help clarify if this was intentional or if we should update the docs?\n",
        "\n",
        "Specifically, I'm looking at:\n",
        "- /auth/refresh\n",
        "- /auth/validate\n",
        "\n",
        "Thanks!\n",
        "Alice\"\"\",\n",
        "}\n",
        "\n",
        "typed_email2 = Email(**email_input2)"
      ],
      "metadata": {
        "id": "a95NASryiprh"
      },
      "execution_count": 27,
      "outputs": []
    },
    {
      "cell_type": "code",
      "source": [
        "await triage_router(typed_email2)"
      ],
      "metadata": {
        "colab": {
          "base_uri": "https://localhost:8080/"
        },
        "id": "EKdOl9kCjqOD",
        "outputId": "3838666f-5724-45ce-b8c5-2c6dce50cb7e"
      },
      "execution_count": 28,
      "outputs": [
        {
          "output_type": "stream",
          "name": "stdout",
          "text": [
            "reasoning='Alice is asking a direct question about the API documentation. This requires a response to clarify the missing endpoints.' classification='respond'\n",
            "Triage History:  [{'content': \"\\nPlease determine how to handle the below email thread:\\n\\nFrom: Alice Smith <alice.smith@company.com>\\nTo: Arshad Siddiqui <arshad.siddiqui@company.com>\\nSubject: Quick question about API documentation\\nHi Arshad,\\n\\nI was reviewing the API documentation for the new authentication service and noticed a few endpoints seem to be missing from the specs. Could you help clarify if this was intentional or if we should update the docs?\\n\\nSpecifically, I'm looking at:\\n- /auth/refresh\\n- /auth/validate\\n\\nThanks!\\nAlice\", 'role': 'user'}, {'id': '__fake_id__', 'content': [{'annotations': [], 'text': '{\\n  \"reasoning\": \"Alice is asking a direct question about the API documentation. This requires a response to clarify the missing endpoints.\",\\n  \"classification\": \"respond\"\\n}', 'type': 'output_text'}], 'role': 'assistant', 'status': 'completed', 'type': 'message'}]\n",
            "📧 Classification: RESPOND - This email requires a response\n",
            "OK. I've responded to Alice's email, letting her know I'll investigate the missing API endpoints and provide an update.\n",
            "\n",
            "Response History [{'content': 'Respond to the email {\"from\":\"Alice Smith <alice.smith@company.com>\",\"to\":\"Arshad Siddiqui <arshad.siddiqui@company.com>\",\"subject\":\"Quick question about API documentation\",\"body\":\"Hi Arshad,\\\\n\\\\nI was reviewing the API documentation for the new authentication service and noticed a few endpoints seem to be missing from the specs. Could you help clarify if this was intentional or if we should update the docs?\\\\n\\\\nSpecifically, I\\'m looking at:\\\\n- /auth/refresh\\\\n- /auth/validate\\\\n\\\\nThanks!\\\\nAlice\"}', 'role': 'user'}, {'id': '__fake_id__', 'content': [{'annotations': [], 'text': \"Okay, I will respond to Alice's email.\\n\\n\", 'type': 'output_text'}], 'role': 'assistant', 'status': 'completed', 'type': 'message'}, {'arguments': '{\"to\":\"alice.smith@company.com\",\"content\":\"Hi Alice,\\\\n\\\\nThanks for pointing this out. I\\'ll look into the missing endpoints (/auth/refresh and /auth/validate) in the API documentation for the new authentication service and get back to you with an update.\\\\n\\\\nBest,\\\\nArshad\",\"subject\":\"Re: Quick question about API documentation\"}', 'call_id': '', 'name': 'write_email', 'type': 'function_call', 'id': '__fake_id__'}, {'call_id': '', 'output': \"Email sent to alice.smith@company.com with subject 'Re: Quick question about API documentation'\", 'type': 'function_call_output'}, {'id': '__fake_id__', 'content': [{'annotations': [], 'text': \"OK. I've responded to Alice's email, letting her know I'll investigate the missing API endpoints and provide an update.\\n\", 'type': 'output_text'}], 'role': 'assistant', 'status': 'completed', 'type': 'message'}]\n"
          ]
        }
      ]
    }
  ]
}